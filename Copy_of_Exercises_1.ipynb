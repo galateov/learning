{
  "nbformat": 4,
  "nbformat_minor": 0,
  "metadata": {
    "kernelspec": {
      "display_name": "Python 3",
      "language": "python",
      "name": "python3"
    },
    "language_info": {
      "codemirror_mode": {
        "name": "ipython",
        "version": 3
      },
      "file_extension": ".py",
      "mimetype": "text/x-python",
      "name": "python",
      "nbconvert_exporter": "python",
      "pygments_lexer": "ipython3",
      "version": "3.6.2"
    },
    "colab": {
      "name": "Copy of Exercises_1.ipynb",
      "provenance": [],
      "collapsed_sections": [
        "o299pJ8puLi5",
        "RRkznsxmuLi7",
        "Qj6sC-PnuLi_",
        "-W84KfnpuLi_",
        "s6eZ8oaWuLjA",
        "C933AtIJuLjG",
        "qgviq4RpuLjH",
        "bMrdTX98uLjL",
        "9rfyVM_puLjO",
        "jz8IMe5wuLjQ",
        "Bu02wKZhuLjT",
        "yYJlPqlEuLjV"
      ],
      "toc_visible": true,
      "include_colab_link": true
    }
  },
  "cells": [
    {
      "cell_type": "markdown",
      "metadata": {
        "id": "view-in-github",
        "colab_type": "text"
      },
      "source": [
        "<a href=\"https://colab.research.google.com/github/galateov/learning/blob/master/Copy_of_Exercises_1.ipynb\" target=\"_parent\"><img src=\"https://colab.research.google.com/assets/colab-badge.svg\" alt=\"Open In Colab\"/></a>"
      ]
    },
    {
      "cell_type": "markdown",
      "metadata": {
        "id": "dIbAOrikuLiZ"
      },
      "source": [
        "# Exercise notebook 1: Having a go at it\n",
        "\n",
        "This Jupyter notebook, for the first part of The Open University's _Learn to Code for Data Analysis_ course, contains code examples and coding activities for you.\n",
        "\n",
        "You'll come across steps in the course directing you to this notebook. Once you've done each exercise, go back to the corresponding step and mark it as complete. "
      ]
    },
    {
      "cell_type": "code",
      "metadata": {
        "collapsed": true,
        "id": "1T3ZUxO1uLie"
      },
      "source": [
        "# this code conceals irrelevant warning messages\n",
        "import warnings\n",
        "warnings.simplefilter('ignore', FutureWarning)"
      ],
      "execution_count": 1,
      "outputs": []
    },
    {
      "cell_type": "markdown",
      "metadata": {
        "id": "DnWGM-kguLie"
      },
      "source": [
        "## Exercise 1: variables and assignments\n",
        "\n",
        "A **variable** is a named storage for values. An **assignment** takes a value (like the number 100 below) and stores it in a variable (`deathsInPortugal` below)."
      ]
    },
    {
      "cell_type": "code",
      "metadata": {
        "collapsed": true,
        "id": "6BPmi7-fuLig"
      },
      "source": [
        "deathsInPortugal = 100"
      ],
      "execution_count": 2,
      "outputs": []
    },
    {
      "cell_type": "markdown",
      "metadata": {
        "id": "Q3gLPJbjuLij"
      },
      "source": [
        "To display the value stored in a variable, write the name of the variable. "
      ]
    },
    {
      "cell_type": "code",
      "metadata": {
        "colab": {
          "base_uri": "https://localhost:8080/"
        },
        "id": "GzpT_vNiuLil",
        "outputId": "9b661f37-4bcc-402e-e969-182f85c53cc8"
      },
      "source": [
        "deathsInPortugal"
      ],
      "execution_count": 3,
      "outputs": [
        {
          "output_type": "execute_result",
          "data": {
            "text/plain": [
              "100"
            ]
          },
          "metadata": {
            "tags": []
          },
          "execution_count": 3
        }
      ]
    },
    {
      "cell_type": "markdown",
      "metadata": {
        "id": "quuZjxBMuLio"
      },
      "source": [
        "Each variable can store one value at any time, but the value stored can vary over time, by assigning a new value to the variable."
      ]
    },
    {
      "cell_type": "code",
      "metadata": {
        "colab": {
          "base_uri": "https://localhost:8080/"
        },
        "id": "hcr3cEcSuLip",
        "outputId": "43851748-8276-48d7-8388-208b4bdc88a0"
      },
      "source": [
        "deathsInPortugal = 100\n",
        "deathsInPortugal = 140\n",
        "deathsInPortugal"
      ],
      "execution_count": 4,
      "outputs": [
        {
          "output_type": "execute_result",
          "data": {
            "text/plain": [
              "140"
            ]
          },
          "metadata": {
            "tags": []
          },
          "execution_count": 4
        }
      ]
    },
    {
      "cell_type": "markdown",
      "metadata": {
        "id": "-siEpNwDuLir"
      },
      "source": [
        "Each assignment is written on a separate line. The computer executes the assignments one line at a time, from top to bottom."
      ]
    },
    {
      "cell_type": "code",
      "metadata": {
        "collapsed": true,
        "id": "2RHEPvdAuLis"
      },
      "source": [
        "deathsInPortugal = 140\n",
        "deathsInAngola = 6900\n",
        "deathsInBrazil = 4400"
      ],
      "execution_count": 5,
      "outputs": []
    },
    {
      "cell_type": "code",
      "metadata": {
        "id": "g-DcJdMyumZv"
      },
      "source": [
        "sumAllDeaths = deathsInAngola + deathsInBrazil + deathsInPortugal"
      ],
      "execution_count": 6,
      "outputs": []
    },
    {
      "cell_type": "code",
      "metadata": {
        "colab": {
          "base_uri": "https://localhost:8080/"
        },
        "id": "dr_E7K3su48L",
        "outputId": "98591f71-b9fc-4535-e1a6-39fd15098c32"
      },
      "source": [
        "sumAllDeaths"
      ],
      "execution_count": 7,
      "outputs": [
        {
          "output_type": "execute_result",
          "data": {
            "text/plain": [
              "11440"
            ]
          },
          "metadata": {
            "tags": []
          },
          "execution_count": 7
        }
      ]
    },
    {
      "cell_type": "markdown",
      "metadata": {
        "id": "hONteop8uLiu"
      },
      "source": [
        "### Task\n",
        "\n",
        "Add assignments to the code cell above (or in a new code cell) for the estimated deaths by TB in 2013 in the remaining BRICS countries. The values are as follows: Russia 17000, India 240000, China 41000, South Africa 25000. \n",
        "\n",
        "Don't forget to run the code cell, so that the new variables are available for the exercises further below.\n",
        "\n",
        "**Now go back to the course.**"
      ]
    },
    {
      "cell_type": "markdown",
      "metadata": {
        "id": "HkolI7mguLiu"
      },
      "source": [
        "## Exercise 2: expressions\n",
        "\n",
        "An **expression** is a fragment of code that has a value. A variable name, by itself, is an expression: the expression's value is the value stored in the variable. In Jupyter notebooks, if the last line of a code cell is an expression, then the computer will show its value when executing the cell. "
      ]
    },
    {
      "cell_type": "code",
      "metadata": {
        "colab": {
          "base_uri": "https://localhost:8080/"
        },
        "id": "Aexp6CseuLiv",
        "outputId": "1786428f-00f3-407b-cc77-cac3604f60c5"
      },
      "source": [
        "deathsInPortugal"
      ],
      "execution_count": 8,
      "outputs": [
        {
          "output_type": "execute_result",
          "data": {
            "text/plain": [
              "140"
            ]
          },
          "metadata": {
            "tags": []
          },
          "execution_count": 8
        }
      ]
    },
    {
      "cell_type": "markdown",
      "metadata": {
        "id": "uSovxHGhuLiz"
      },
      "source": [
        "By contrast, a **statement** is a command for the computer to do something. Commands don't produce values, and therefore the computer doesn't display anything."
      ]
    },
    {
      "cell_type": "code",
      "metadata": {
        "collapsed": true,
        "id": "-Mwxc57wuLiz"
      },
      "source": [
        "deathsInPortugal = 140"
      ],
      "execution_count": 9,
      "outputs": []
    },
    {
      "cell_type": "markdown",
      "metadata": {
        "id": "7qOrq92ruLi0"
      },
      "source": [
        "More complex expressions can be written using the arithmetic **operators** of addition (`+`), substraction (`-`), multiplication (`*`) and division (`/`). For example, the total number of deaths in the three countries is:"
      ]
    },
    {
      "cell_type": "code",
      "metadata": {
        "id": "OmDcolT_uLi0",
        "colab": {
          "base_uri": "https://localhost:8080/"
        },
        "outputId": "85af8fe7-c673-4073-c8c8-08bac8be6793"
      },
      "source": [
        "deathsInAngola + deathsInBrazil + deathsInPortugal"
      ],
      "execution_count": 10,
      "outputs": [
        {
          "output_type": "execute_result",
          "data": {
            "text/plain": [
              "11440"
            ]
          },
          "metadata": {
            "tags": []
          },
          "execution_count": 10
        }
      ]
    },
    {
      "cell_type": "markdown",
      "metadata": {
        "id": "6wlUsZV0uLi2"
      },
      "source": [
        "If the calculated value needs to be used later on in the code, it has to be stored in a variable. In general, the right-hand side of an assignment is an expression; its value is calculated (the expression is **evaluated**) and stored in the variable."
      ]
    },
    {
      "cell_type": "code",
      "metadata": {
        "colab": {
          "base_uri": "https://localhost:8080/"
        },
        "id": "MisXP7UfuLi2",
        "outputId": "413dc6c6-f235-487f-9218-fcfb7f87089e"
      },
      "source": [
        "totalDeaths = deathsInAngola + deathsInBrazil + deathsInPortugal\n",
        "totalDeaths"
      ],
      "execution_count": 11,
      "outputs": [
        {
          "output_type": "execute_result",
          "data": {
            "text/plain": [
              "11440"
            ]
          },
          "metadata": {
            "tags": []
          },
          "execution_count": 11
        }
      ]
    },
    {
      "cell_type": "markdown",
      "metadata": {
        "id": "w0mSXJl7uLi2"
      },
      "source": [
        "The average number of deaths is the total divided by the number of countries."
      ]
    },
    {
      "cell_type": "code",
      "metadata": {
        "id": "ypj8wGm6uLi3",
        "colab": {
          "base_uri": "https://localhost:8080/"
        },
        "outputId": "0cb8ea9f-68aa-4d8a-b672-ab4de31398d0"
      },
      "source": [
        "totalDeaths / 3"
      ],
      "execution_count": 12,
      "outputs": [
        {
          "output_type": "execute_result",
          "data": {
            "text/plain": [
              "3813.3333333333335"
            ]
          },
          "metadata": {
            "tags": []
          },
          "execution_count": 12
        }
      ]
    },
    {
      "cell_type": "markdown",
      "metadata": {
        "id": "IoM0_WjBuLi3"
      },
      "source": [
        "The average could also be calculated with a single expression."
      ]
    },
    {
      "cell_type": "code",
      "metadata": {
        "id": "iUOVzaoguLi3",
        "colab": {
          "base_uri": "https://localhost:8080/"
        },
        "outputId": "7945d82a-c9f8-41f0-8576-77bb9d787a95"
      },
      "source": [
        "(deathsInAngola + deathsInBrazil + deathsInPortugal) / 3"
      ],
      "execution_count": 13,
      "outputs": [
        {
          "output_type": "execute_result",
          "data": {
            "text/plain": [
              "3813.3333333333335"
            ]
          },
          "metadata": {
            "tags": []
          },
          "execution_count": 13
        }
      ]
    },
    {
      "cell_type": "markdown",
      "metadata": {
        "id": "tpVPw82TuLi4"
      },
      "source": [
        "The parentheses (round brackets) are necessary to state that the sum has to be calculated before the division. Without parentheses, Python follows the conventional order used in mathematics: divisions and multiplications are done before additions and subtractions."
      ]
    },
    {
      "cell_type": "code",
      "metadata": {
        "id": "z6pmwvKKuLi4",
        "colab": {
          "base_uri": "https://localhost:8080/"
        },
        "outputId": "eb4e8ecf-a3dc-4b23-f742-fe4b4c33cfef"
      },
      "source": [
        "deathsInAngola + deathsInBrazil + deathsInPortugal / 3"
      ],
      "execution_count": 14,
      "outputs": [
        {
          "output_type": "execute_result",
          "data": {
            "text/plain": [
              "11346.666666666666"
            ]
          },
          "metadata": {
            "tags": []
          },
          "execution_count": 14
        }
      ]
    },
    {
      "cell_type": "markdown",
      "metadata": {
        "id": "o299pJ8puLi5"
      },
      "source": [
        "### Task\n",
        "\n",
        "- In the cell below, write code to calculate the total number of deaths in the five BRICS countries (Brazil, Russia, India, China, South Africa) in 2013. Run the code to see the result, which should be 327400."
      ]
    },
    {
      "cell_type": "code",
      "metadata": {
        "collapsed": true,
        "id": "RwHfW97XuLi5"
      },
      "source": [
        ""
      ],
      "execution_count": 14,
      "outputs": []
    },
    {
      "cell_type": "markdown",
      "metadata": {
        "id": "D2Kqsd9MuLi6"
      },
      "source": [
        "- In the cell below, write code to calculate the average number of deaths in the BRICS countries in 2013. Run the code to see the result, which should be 65480."
      ]
    },
    {
      "cell_type": "code",
      "metadata": {
        "collapsed": true,
        "id": "Qj4emsKauLi6"
      },
      "source": [
        ""
      ],
      "execution_count": 14,
      "outputs": []
    },
    {
      "cell_type": "markdown",
      "metadata": {
        "id": "l6jWhx9TuLi6"
      },
      "source": [
        "**Now go back to the course.**"
      ]
    },
    {
      "cell_type": "markdown",
      "metadata": {
        "id": "RRkznsxmuLi7"
      },
      "source": [
        "## Exercise 3: functions quiz \n",
        "\n",
        "A **function** takes zero or more values (the function's **arguments**) and **returns** (produces) a value. To **call** (use) a function, write the function name, followed by its arguments within parentheses (round brackets). Multiple arguments are separated by commas. Function names follow the same rules and conventions as variable names. A function call is an expression: the expression's value is the value returned by the function.\n",
        "\n",
        "Python provides two functions to compute the **maximum** (largest) and **minimum** (smallest) of two or more values."
      ]
    },
    {
      "cell_type": "code",
      "metadata": {
        "colab": {
          "base_uri": "https://localhost:8080/"
        },
        "id": "i6z56__cuLi8",
        "outputId": "bdcc2ef4-843c-41ca-e858-5eeba1524a54"
      },
      "source": [
        "max(deathsInBrazil, deathsInPortugal)"
      ],
      "execution_count": 15,
      "outputs": [
        {
          "output_type": "execute_result",
          "data": {
            "text/plain": [
              "4400"
            ]
          },
          "metadata": {
            "tags": []
          },
          "execution_count": 15
        }
      ]
    },
    {
      "cell_type": "code",
      "metadata": {
        "id": "NY9BNwekuLi9",
        "colab": {
          "base_uri": "https://localhost:8080/"
        },
        "outputId": "d38b26b5-9821-465c-a6b5-23e102a8990d"
      },
      "source": [
        "min(deathsInAngola, deathsInBrazil, deathsInPortugal)"
      ],
      "execution_count": 16,
      "outputs": [
        {
          "output_type": "execute_result",
          "data": {
            "text/plain": [
              "140"
            ]
          },
          "metadata": {
            "tags": []
          },
          "execution_count": 16
        }
      ]
    },
    {
      "cell_type": "code",
      "metadata": {
        "id": "-aC2OFaMaiA8"
      },
      "source": [
        ""
      ],
      "execution_count": 16,
      "outputs": []
    },
    {
      "cell_type": "markdown",
      "metadata": {
        "id": "xBPh5O3nuLi-"
      },
      "source": [
        "The **range** of a set of values is the difference between the maximum and the minimum."
      ]
    },
    {
      "cell_type": "code",
      "metadata": {
        "id": "guYRJeK2uLi-",
        "colab": {
          "base_uri": "https://localhost:8080/"
        },
        "outputId": "475b8ad9-7257-45e8-9f13-0cb214a2280f"
      },
      "source": [
        "largest = max(deathsInBrazil, deathsInPortugal)\n",
        "smallest = min(deathsInBrazil, deathsInPortugal)\n",
        "deathsRange = largest - smallest\n",
        "deathsRange"
      ],
      "execution_count": 17,
      "outputs": [
        {
          "output_type": "execute_result",
          "data": {
            "text/plain": [
              "4260"
            ]
          },
          "metadata": {
            "tags": []
          },
          "execution_count": 17
        }
      ]
    },
    {
      "cell_type": "markdown",
      "metadata": {
        "id": "Qj6sC-PnuLi_"
      },
      "source": [
        "### Tasks\n",
        "\n",
        "Answer the quiz questions in the course. All of them can be answered by editing the above code cell. Don't forget that you can use TAB-completion to quickly write the variable names of the remaining BRICS countries, namely Russia, India, China and South Africa (Brazil is already in the code above)."
      ]
    },
    {
      "cell_type": "markdown",
      "metadata": {
        "id": "-W84KfnpuLi_"
      },
      "source": [
        "## Exercise 4: comments\n",
        "\n",
        "**Comments** start with the hash sign (`#`) and go until the end of the line. They're used to annotate the code, e.g. to indicate the units of values."
      ]
    },
    {
      "cell_type": "code",
      "metadata": {
        "id": "JyqZozJ1uLjA",
        "colab": {
          "base_uri": "https://localhost:8080/"
        },
        "outputId": "507a79c4-c3d3-4e6f-e115-af58c38f79af"
      },
      "source": [
        "# population unit: thousands of inhabitants\n",
        "populationOfPortugal = 10608\n",
        "\n",
        "# deaths unit: inhabitants\n",
        "deathsInPortugal = 140\n",
        "\n",
        "# deaths per 100 thousand inhabitants\n",
        "deathsInPortugal * 100 / populationOfPortugal"
      ],
      "execution_count": 18,
      "outputs": [
        {
          "output_type": "execute_result",
          "data": {
            "text/plain": [
              "1.3197586726998491"
            ]
          },
          "metadata": {
            "tags": []
          },
          "execution_count": 18
        }
      ]
    },
    {
      "cell_type": "markdown",
      "metadata": {
        "id": "s6eZ8oaWuLjA"
      },
      "source": [
        "### Task\n",
        "\n",
        "Calculate the deaths per 100 thousand inhabitants for Brazil. Its population in 2013 was roughly 200 million and 362 thousand people. You should obtain a result of around 2.2 deaths per 100 thousand people."
      ]
    },
    {
      "cell_type": "markdown",
      "metadata": {
        "id": "VGYxuXyWuLjB"
      },
      "source": [
        "**Now go back to the course.**"
      ]
    },
    {
      "cell_type": "markdown",
      "metadata": {
        "id": "zCBBbwTBuLjC"
      },
      "source": [
        "## Exercise 5: pandas quiz\n",
        "\n",
        "All programs in this course must start with the following **import statement**, to load all the code from the pandas **module**."
      ]
    },
    {
      "cell_type": "code",
      "metadata": {
        "collapsed": true,
        "id": "XgGBQbMduLjC"
      },
      "source": [
        "from pandas import *"
      ],
      "execution_count": 19,
      "outputs": []
    },
    {
      "cell_type": "markdown",
      "metadata": {
        "id": "kMBAdbgSuLjE"
      },
      "source": [
        "The words in boldface (`from` and `import`) are **reserved words** of the Python language; they cannot be used as names.\n",
        "\n",
        "### Task\n",
        "\n",
        "Answer the quiz questions in the course. You can change the above line of code to find out the answers."
      ]
    },
    {
      "cell_type": "code",
      "metadata": {
        "id": "U_04Za0Jqdn9",
        "colab": {
          "base_uri": "https://localhost:8080/"
        },
        "outputId": "677a4914-6968-45ed-8632-725614ec8728"
      },
      "source": [
        "from google.colab import drive\n",
        "drive.mount('/content/drive')"
      ],
      "execution_count": 20,
      "outputs": [
        {
          "output_type": "stream",
          "text": [
            "Mounted at /content/drive\n"
          ],
          "name": "stdout"
        }
      ]
    },
    {
      "cell_type": "markdown",
      "metadata": {
        "id": "hvLmAAWGuLjF"
      },
      "source": [
        "## Exercise 6: selecting a column\n",
        "\n",
        "The `read_excel()` function takes a **string** with the name of an Excel file, and returns a **dataframe**, the pandas representation of a table. The computer reports a **file not found** error if the file is not in the same folder as this notebook, or the file name is misspelt."
      ]
    },
    {
      "cell_type": "code",
      "metadata": {
        "scrolled": false,
        "id": "L8KdqcD-uLjF",
        "colab": {
          "base_uri": "https://localhost:8080/",
          "height": 426
        },
        "outputId": "59670a86-110b-4eb8-d15a-15beea26c8d9"
      },
      "source": [
        "#@title\n",
        "data = read_excel('/content/drive/MyDrive/OpenUni/Learn-to-code-for-data-analysis/1_Having_a_go_at_it/WHO POP TB some.xls')\n",
        "data"
      ],
      "execution_count": 21,
      "outputs": [
        {
          "output_type": "execute_result",
          "data": {
            "text/html": [
              "<div>\n",
              "<style scoped>\n",
              "    .dataframe tbody tr th:only-of-type {\n",
              "        vertical-align: middle;\n",
              "    }\n",
              "\n",
              "    .dataframe tbody tr th {\n",
              "        vertical-align: top;\n",
              "    }\n",
              "\n",
              "    .dataframe thead th {\n",
              "        text-align: right;\n",
              "    }\n",
              "</style>\n",
              "<table border=\"1\" class=\"dataframe\">\n",
              "  <thead>\n",
              "    <tr style=\"text-align: right;\">\n",
              "      <th></th>\n",
              "      <th>Country</th>\n",
              "      <th>Population (1000s)</th>\n",
              "      <th>TB deaths</th>\n",
              "    </tr>\n",
              "  </thead>\n",
              "  <tbody>\n",
              "    <tr>\n",
              "      <th>0</th>\n",
              "      <td>Angola</td>\n",
              "      <td>21472</td>\n",
              "      <td>6900</td>\n",
              "    </tr>\n",
              "    <tr>\n",
              "      <th>1</th>\n",
              "      <td>Brazil</td>\n",
              "      <td>200362</td>\n",
              "      <td>4400</td>\n",
              "    </tr>\n",
              "    <tr>\n",
              "      <th>2</th>\n",
              "      <td>China</td>\n",
              "      <td>1393337</td>\n",
              "      <td>41000</td>\n",
              "    </tr>\n",
              "    <tr>\n",
              "      <th>3</th>\n",
              "      <td>Equatorial Guinea</td>\n",
              "      <td>757</td>\n",
              "      <td>67</td>\n",
              "    </tr>\n",
              "    <tr>\n",
              "      <th>4</th>\n",
              "      <td>Guinea-Bissau</td>\n",
              "      <td>1704</td>\n",
              "      <td>1200</td>\n",
              "    </tr>\n",
              "    <tr>\n",
              "      <th>5</th>\n",
              "      <td>India</td>\n",
              "      <td>1252140</td>\n",
              "      <td>240000</td>\n",
              "    </tr>\n",
              "    <tr>\n",
              "      <th>6</th>\n",
              "      <td>Mozambique</td>\n",
              "      <td>25834</td>\n",
              "      <td>18000</td>\n",
              "    </tr>\n",
              "    <tr>\n",
              "      <th>7</th>\n",
              "      <td>Portugal</td>\n",
              "      <td>10608</td>\n",
              "      <td>140</td>\n",
              "    </tr>\n",
              "    <tr>\n",
              "      <th>8</th>\n",
              "      <td>Russian Federation</td>\n",
              "      <td>142834</td>\n",
              "      <td>17000</td>\n",
              "    </tr>\n",
              "    <tr>\n",
              "      <th>9</th>\n",
              "      <td>Sao Tome and Principe</td>\n",
              "      <td>193</td>\n",
              "      <td>18</td>\n",
              "    </tr>\n",
              "    <tr>\n",
              "      <th>10</th>\n",
              "      <td>South Africa</td>\n",
              "      <td>52776</td>\n",
              "      <td>25000</td>\n",
              "    </tr>\n",
              "    <tr>\n",
              "      <th>11</th>\n",
              "      <td>Timor-Leste</td>\n",
              "      <td>1133</td>\n",
              "      <td>990</td>\n",
              "    </tr>\n",
              "  </tbody>\n",
              "</table>\n",
              "</div>"
            ],
            "text/plain": [
              "                  Country  Population (1000s)  TB deaths\n",
              "0                  Angola               21472       6900\n",
              "1                  Brazil              200362       4400\n",
              "2                   China             1393337      41000\n",
              "3       Equatorial Guinea                 757         67\n",
              "4           Guinea-Bissau                1704       1200\n",
              "5                   India             1252140     240000\n",
              "6              Mozambique               25834      18000\n",
              "7                Portugal               10608        140\n",
              "8      Russian Federation              142834      17000\n",
              "9   Sao Tome and Principe                 193         18\n",
              "10           South Africa               52776      25000\n",
              "11            Timor-Leste                1133        990"
            ]
          },
          "metadata": {
            "tags": []
          },
          "execution_count": 21
        }
      ]
    },
    {
      "cell_type": "code",
      "metadata": {
        "colab": {
          "base_uri": "https://localhost:8080/"
        },
        "id": "LOimnujbd0u8",
        "outputId": "132862f9-5eaf-4ced-8767-8f9a106398ca"
      },
      "source": [
        "from google.colab import drive\n",
        "drive.mount('/content/drive')"
      ],
      "execution_count": 22,
      "outputs": [
        {
          "output_type": "stream",
          "text": [
            "Drive already mounted at /content/drive; to attempt to forcibly remount, call drive.mount(\"/content/drive\", force_remount=True).\n"
          ],
          "name": "stdout"
        }
      ]
    },
    {
      "cell_type": "markdown",
      "metadata": {
        "id": "Gu5KEX2OuLjF"
      },
      "source": [
        "The expression `dataFrame[columnName]` evaluates to the column with the given name (a string). Column names are case sensitive. Misspelling the column name will result in a rather long **key error** message. You can see what happens by changing the string in the next code cell (e.g. replace `TB` by `tb`) and running it. Don't forget to undo your change and run the code again."
      ]
    },
    {
      "cell_type": "code",
      "metadata": {
        "id": "4X_FnsTbuLjG",
        "colab": {
          "base_uri": "https://localhost:8080/"
        },
        "outputId": "5e646480-4e83-4389-a9b9-a7c5b4a28bcd"
      },
      "source": [
        "tbColumn = data['TB deaths']\n",
        "tbColumn"
      ],
      "execution_count": 23,
      "outputs": [
        {
          "output_type": "execute_result",
          "data": {
            "text/plain": [
              "0       6900\n",
              "1       4400\n",
              "2      41000\n",
              "3         67\n",
              "4       1200\n",
              "5     240000\n",
              "6      18000\n",
              "7        140\n",
              "8      17000\n",
              "9         18\n",
              "10     25000\n",
              "11       990\n",
              "Name: TB deaths, dtype: int64"
            ]
          },
          "metadata": {
            "tags": []
          },
          "execution_count": 23
        }
      ]
    },
    {
      "cell_type": "markdown",
      "metadata": {
        "id": "C933AtIJuLjG"
      },
      "source": [
        "### Task\n",
        "\n",
        "In the next cell, select the population column and store it in a variable (you'll use it in the next exercise). You need to scroll back to the start of the exercise to see the column's name."
      ]
    },
    {
      "cell_type": "code",
      "metadata": {
        "collapsed": true,
        "id": "b3PQ6keEuLjG",
        "colab": {
          "base_uri": "https://localhost:8080/"
        },
        "outputId": "f9f94409-147e-44de-dfd8-709e5eacd78f"
      },
      "source": [
        "tbColumn = data['Population (1000s)']\n",
        "tbColumn"
      ],
      "execution_count": 24,
      "outputs": [
        {
          "output_type": "execute_result",
          "data": {
            "text/plain": [
              "0       21472\n",
              "1      200362\n",
              "2     1393337\n",
              "3         757\n",
              "4        1704\n",
              "5     1252140\n",
              "6       25834\n",
              "7       10608\n",
              "8      142834\n",
              "9         193\n",
              "10      52776\n",
              "11       1133\n",
              "Name: Population (1000s), dtype: int64"
            ]
          },
          "metadata": {
            "tags": []
          },
          "execution_count": 24
        }
      ]
    },
    {
      "cell_type": "markdown",
      "metadata": {
        "id": "8SM-_mZ3uLjH"
      },
      "source": [
        "**Now go back to the course.**"
      ]
    },
    {
      "cell_type": "markdown",
      "metadata": {
        "id": "qgviq4RpuLjH"
      },
      "source": [
        "## Exercise 7: calculations on a column\n",
        "\n",
        "\n",
        "A **method** is a function that can only be called in a certain context, like a dataframe or a column. A **method call** is of the form `context.methodName(argument1, argument2, ...)`.   \n",
        "\n",
        "Pandas provides several column methods, including to calculate the sum, the largest, and the smallest of the numbers in a column, as follows."
      ]
    },
    {
      "cell_type": "code",
      "metadata": {
        "id": "tRa2ncP1uLjI",
        "colab": {
          "base_uri": "https://localhost:8080/"
        },
        "outputId": "d34e3c9e-65b9-4040-80ff-f84560c7c5f2"
      },
      "source": [
        "tbColumn = data['TB deaths']\n",
        "tbColumn.sum()"
      ],
      "execution_count": 25,
      "outputs": [
        {
          "output_type": "execute_result",
          "data": {
            "text/plain": [
              "354715"
            ]
          },
          "metadata": {
            "tags": []
          },
          "execution_count": 25
        }
      ]
    },
    {
      "cell_type": "code",
      "metadata": {
        "id": "iUcImQ_MuLjI",
        "colab": {
          "base_uri": "https://localhost:8080/"
        },
        "outputId": "bce84303-15da-4b74-b8ce-6c6e0ba73878"
      },
      "source": [
        "tbColumn.max()"
      ],
      "execution_count": 26,
      "outputs": [
        {
          "output_type": "execute_result",
          "data": {
            "text/plain": [
              "240000"
            ]
          },
          "metadata": {
            "tags": []
          },
          "execution_count": 26
        }
      ]
    },
    {
      "cell_type": "code",
      "metadata": {
        "id": "fx7WWGiLuLjJ",
        "colab": {
          "base_uri": "https://localhost:8080/"
        },
        "outputId": "6ca12735-0e5a-4d0b-90e2-3159a6ae73cb"
      },
      "source": [
        "tbColumn.min()"
      ],
      "execution_count": 27,
      "outputs": [
        {
          "output_type": "execute_result",
          "data": {
            "text/plain": [
              "18"
            ]
          },
          "metadata": {
            "tags": []
          },
          "execution_count": 27
        }
      ]
    },
    {
      "cell_type": "markdown",
      "metadata": {
        "id": "hw6TiQN9uLjJ"
      },
      "source": [
        "The **mean** of a collection of numbers is the sum of those numbers divided by how many there are."
      ]
    },
    {
      "cell_type": "code",
      "metadata": {
        "id": "O6BMJF7juLjK",
        "colab": {
          "base_uri": "https://localhost:8080/"
        },
        "outputId": "3ae74c83-739e-4ef7-82b7-bb83b74f375e"
      },
      "source": [
        "tbColumn.sum() / 12"
      ],
      "execution_count": 28,
      "outputs": [
        {
          "output_type": "execute_result",
          "data": {
            "text/plain": [
              "29559.583333333332"
            ]
          },
          "metadata": {
            "tags": []
          },
          "execution_count": 28
        }
      ]
    },
    {
      "cell_type": "code",
      "metadata": {
        "id": "qhEBroXjuLjK",
        "colab": {
          "base_uri": "https://localhost:8080/"
        },
        "outputId": "8628f347-e8b8-46d3-f865-5d900fed116d"
      },
      "source": [
        "tbColumn.mean()"
      ],
      "execution_count": 29,
      "outputs": [
        {
          "output_type": "execute_result",
          "data": {
            "text/plain": [
              "29559.583333333332"
            ]
          },
          "metadata": {
            "tags": []
          },
          "execution_count": 29
        }
      ]
    },
    {
      "cell_type": "markdown",
      "metadata": {
        "id": "Fk7Nwe2cuLjL"
      },
      "source": [
        "The **median** of a collection of numbers is the number in the middle, i.e. half of the numbers are below the median and half  are above."
      ]
    },
    {
      "cell_type": "code",
      "metadata": {
        "id": "cxUns8AzuLjL",
        "colab": {
          "base_uri": "https://localhost:8080/"
        },
        "outputId": "40030a1b-a3dc-45dc-969a-d76fd9962b69"
      },
      "source": [
        "tbColumn.median()"
      ],
      "execution_count": 30,
      "outputs": [
        {
          "output_type": "execute_result",
          "data": {
            "text/plain": [
              "5650.0"
            ]
          },
          "metadata": {
            "tags": []
          },
          "execution_count": 30
        }
      ]
    },
    {
      "cell_type": "markdown",
      "metadata": {
        "id": "bMrdTX98uLjL"
      },
      "source": [
        "### Tasks\n",
        "\n",
        "Use the population column variable from the previous exercise to calculate:\n",
        "\n",
        "- the total population"
      ]
    },
    {
      "cell_type": "code",
      "metadata": {
        "collapsed": true,
        "id": "P2JpYoxUuLjL"
      },
      "source": [
        ""
      ],
      "execution_count": 30,
      "outputs": []
    },
    {
      "cell_type": "markdown",
      "metadata": {
        "id": "6gJ9JjIouLjM"
      },
      "source": [
        "- the maximum population"
      ]
    },
    {
      "cell_type": "code",
      "metadata": {
        "collapsed": true,
        "id": "H3mnxoITuLjM"
      },
      "source": [
        ""
      ],
      "execution_count": 30,
      "outputs": []
    },
    {
      "cell_type": "markdown",
      "metadata": {
        "id": "uT8jIzsDuLjM"
      },
      "source": [
        "- the minimum population"
      ]
    },
    {
      "cell_type": "code",
      "metadata": {
        "collapsed": true,
        "id": "tdRMwDzFuLjO"
      },
      "source": [
        ""
      ],
      "execution_count": 30,
      "outputs": []
    },
    {
      "cell_type": "markdown",
      "metadata": {
        "id": "Dw5qxL8euLjO"
      },
      "source": [
        "**Now go back to the course.**"
      ]
    },
    {
      "cell_type": "markdown",
      "metadata": {
        "id": "9rfyVM_puLjO"
      },
      "source": [
        "## Exercise 8: sorting on a column\n",
        "\n",
        "The dataframe method `sort_values()` takes as argument a column name and returns a new dataframe, with rows in ascending order according to the values in that column."
      ]
    },
    {
      "cell_type": "code",
      "metadata": {
        "id": "4FqOMzLQuLjO",
        "colab": {
          "base_uri": "https://localhost:8080/",
          "height": 426
        },
        "outputId": "2b237eaf-fe8c-47d6-e73c-e582ef08fd7e"
      },
      "source": [
        "data.sort_values('TB deaths')"
      ],
      "execution_count": 31,
      "outputs": [
        {
          "output_type": "execute_result",
          "data": {
            "text/html": [
              "<div>\n",
              "<style scoped>\n",
              "    .dataframe tbody tr th:only-of-type {\n",
              "        vertical-align: middle;\n",
              "    }\n",
              "\n",
              "    .dataframe tbody tr th {\n",
              "        vertical-align: top;\n",
              "    }\n",
              "\n",
              "    .dataframe thead th {\n",
              "        text-align: right;\n",
              "    }\n",
              "</style>\n",
              "<table border=\"1\" class=\"dataframe\">\n",
              "  <thead>\n",
              "    <tr style=\"text-align: right;\">\n",
              "      <th></th>\n",
              "      <th>Country</th>\n",
              "      <th>Population (1000s)</th>\n",
              "      <th>TB deaths</th>\n",
              "    </tr>\n",
              "  </thead>\n",
              "  <tbody>\n",
              "    <tr>\n",
              "      <th>9</th>\n",
              "      <td>Sao Tome and Principe</td>\n",
              "      <td>193</td>\n",
              "      <td>18</td>\n",
              "    </tr>\n",
              "    <tr>\n",
              "      <th>3</th>\n",
              "      <td>Equatorial Guinea</td>\n",
              "      <td>757</td>\n",
              "      <td>67</td>\n",
              "    </tr>\n",
              "    <tr>\n",
              "      <th>7</th>\n",
              "      <td>Portugal</td>\n",
              "      <td>10608</td>\n",
              "      <td>140</td>\n",
              "    </tr>\n",
              "    <tr>\n",
              "      <th>11</th>\n",
              "      <td>Timor-Leste</td>\n",
              "      <td>1133</td>\n",
              "      <td>990</td>\n",
              "    </tr>\n",
              "    <tr>\n",
              "      <th>4</th>\n",
              "      <td>Guinea-Bissau</td>\n",
              "      <td>1704</td>\n",
              "      <td>1200</td>\n",
              "    </tr>\n",
              "    <tr>\n",
              "      <th>1</th>\n",
              "      <td>Brazil</td>\n",
              "      <td>200362</td>\n",
              "      <td>4400</td>\n",
              "    </tr>\n",
              "    <tr>\n",
              "      <th>0</th>\n",
              "      <td>Angola</td>\n",
              "      <td>21472</td>\n",
              "      <td>6900</td>\n",
              "    </tr>\n",
              "    <tr>\n",
              "      <th>8</th>\n",
              "      <td>Russian Federation</td>\n",
              "      <td>142834</td>\n",
              "      <td>17000</td>\n",
              "    </tr>\n",
              "    <tr>\n",
              "      <th>6</th>\n",
              "      <td>Mozambique</td>\n",
              "      <td>25834</td>\n",
              "      <td>18000</td>\n",
              "    </tr>\n",
              "    <tr>\n",
              "      <th>10</th>\n",
              "      <td>South Africa</td>\n",
              "      <td>52776</td>\n",
              "      <td>25000</td>\n",
              "    </tr>\n",
              "    <tr>\n",
              "      <th>2</th>\n",
              "      <td>China</td>\n",
              "      <td>1393337</td>\n",
              "      <td>41000</td>\n",
              "    </tr>\n",
              "    <tr>\n",
              "      <th>5</th>\n",
              "      <td>India</td>\n",
              "      <td>1252140</td>\n",
              "      <td>240000</td>\n",
              "    </tr>\n",
              "  </tbody>\n",
              "</table>\n",
              "</div>"
            ],
            "text/plain": [
              "                  Country  Population (1000s)  TB deaths\n",
              "9   Sao Tome and Principe                 193         18\n",
              "3       Equatorial Guinea                 757         67\n",
              "7                Portugal               10608        140\n",
              "11            Timor-Leste                1133        990\n",
              "4           Guinea-Bissau                1704       1200\n",
              "1                  Brazil              200362       4400\n",
              "0                  Angola               21472       6900\n",
              "8      Russian Federation              142834      17000\n",
              "6              Mozambique               25834      18000\n",
              "10           South Africa               52776      25000\n",
              "2                   China             1393337      41000\n",
              "5                   India             1252140     240000"
            ]
          },
          "metadata": {
            "tags": []
          },
          "execution_count": 31
        }
      ]
    },
    {
      "cell_type": "markdown",
      "metadata": {
        "id": "cRLCqE_kuLjO"
      },
      "source": [
        "Sorting doesn't change the original table."
      ]
    },
    {
      "cell_type": "code",
      "metadata": {
        "scrolled": true,
        "id": "5mUtChAGuLjP",
        "colab": {
          "base_uri": "https://localhost:8080/",
          "height": 426
        },
        "outputId": "f2f1f2e2-b8f1-4c5e-b3e1-2375d2798698"
      },
      "source": [
        "data # rows still in original order"
      ],
      "execution_count": 32,
      "outputs": [
        {
          "output_type": "execute_result",
          "data": {
            "text/html": [
              "<div>\n",
              "<style scoped>\n",
              "    .dataframe tbody tr th:only-of-type {\n",
              "        vertical-align: middle;\n",
              "    }\n",
              "\n",
              "    .dataframe tbody tr th {\n",
              "        vertical-align: top;\n",
              "    }\n",
              "\n",
              "    .dataframe thead th {\n",
              "        text-align: right;\n",
              "    }\n",
              "</style>\n",
              "<table border=\"1\" class=\"dataframe\">\n",
              "  <thead>\n",
              "    <tr style=\"text-align: right;\">\n",
              "      <th></th>\n",
              "      <th>Country</th>\n",
              "      <th>Population (1000s)</th>\n",
              "      <th>TB deaths</th>\n",
              "    </tr>\n",
              "  </thead>\n",
              "  <tbody>\n",
              "    <tr>\n",
              "      <th>0</th>\n",
              "      <td>Angola</td>\n",
              "      <td>21472</td>\n",
              "      <td>6900</td>\n",
              "    </tr>\n",
              "    <tr>\n",
              "      <th>1</th>\n",
              "      <td>Brazil</td>\n",
              "      <td>200362</td>\n",
              "      <td>4400</td>\n",
              "    </tr>\n",
              "    <tr>\n",
              "      <th>2</th>\n",
              "      <td>China</td>\n",
              "      <td>1393337</td>\n",
              "      <td>41000</td>\n",
              "    </tr>\n",
              "    <tr>\n",
              "      <th>3</th>\n",
              "      <td>Equatorial Guinea</td>\n",
              "      <td>757</td>\n",
              "      <td>67</td>\n",
              "    </tr>\n",
              "    <tr>\n",
              "      <th>4</th>\n",
              "      <td>Guinea-Bissau</td>\n",
              "      <td>1704</td>\n",
              "      <td>1200</td>\n",
              "    </tr>\n",
              "    <tr>\n",
              "      <th>5</th>\n",
              "      <td>India</td>\n",
              "      <td>1252140</td>\n",
              "      <td>240000</td>\n",
              "    </tr>\n",
              "    <tr>\n",
              "      <th>6</th>\n",
              "      <td>Mozambique</td>\n",
              "      <td>25834</td>\n",
              "      <td>18000</td>\n",
              "    </tr>\n",
              "    <tr>\n",
              "      <th>7</th>\n",
              "      <td>Portugal</td>\n",
              "      <td>10608</td>\n",
              "      <td>140</td>\n",
              "    </tr>\n",
              "    <tr>\n",
              "      <th>8</th>\n",
              "      <td>Russian Federation</td>\n",
              "      <td>142834</td>\n",
              "      <td>17000</td>\n",
              "    </tr>\n",
              "    <tr>\n",
              "      <th>9</th>\n",
              "      <td>Sao Tome and Principe</td>\n",
              "      <td>193</td>\n",
              "      <td>18</td>\n",
              "    </tr>\n",
              "    <tr>\n",
              "      <th>10</th>\n",
              "      <td>South Africa</td>\n",
              "      <td>52776</td>\n",
              "      <td>25000</td>\n",
              "    </tr>\n",
              "    <tr>\n",
              "      <th>11</th>\n",
              "      <td>Timor-Leste</td>\n",
              "      <td>1133</td>\n",
              "      <td>990</td>\n",
              "    </tr>\n",
              "  </tbody>\n",
              "</table>\n",
              "</div>"
            ],
            "text/plain": [
              "                  Country  Population (1000s)  TB deaths\n",
              "0                  Angola               21472       6900\n",
              "1                  Brazil              200362       4400\n",
              "2                   China             1393337      41000\n",
              "3       Equatorial Guinea                 757         67\n",
              "4           Guinea-Bissau                1704       1200\n",
              "5                   India             1252140     240000\n",
              "6              Mozambique               25834      18000\n",
              "7                Portugal               10608        140\n",
              "8      Russian Federation              142834      17000\n",
              "9   Sao Tome and Principe                 193         18\n",
              "10           South Africa               52776      25000\n",
              "11            Timor-Leste                1133        990"
            ]
          },
          "metadata": {
            "tags": []
          },
          "execution_count": 32
        }
      ]
    },
    {
      "cell_type": "markdown",
      "metadata": {
        "id": "hj6PoLu4uLjP"
      },
      "source": [
        "Sorting on a column that has text will put the rows in alphabetical order."
      ]
    },
    {
      "cell_type": "code",
      "metadata": {
        "id": "wM1YgkHTuLjP",
        "colab": {
          "base_uri": "https://localhost:8080/",
          "height": 426
        },
        "outputId": "3efbc864-108b-474c-adf3-6344f507da07"
      },
      "source": [
        "data.sort_values('Country')"
      ],
      "execution_count": 33,
      "outputs": [
        {
          "output_type": "execute_result",
          "data": {
            "text/html": [
              "<div>\n",
              "<style scoped>\n",
              "    .dataframe tbody tr th:only-of-type {\n",
              "        vertical-align: middle;\n",
              "    }\n",
              "\n",
              "    .dataframe tbody tr th {\n",
              "        vertical-align: top;\n",
              "    }\n",
              "\n",
              "    .dataframe thead th {\n",
              "        text-align: right;\n",
              "    }\n",
              "</style>\n",
              "<table border=\"1\" class=\"dataframe\">\n",
              "  <thead>\n",
              "    <tr style=\"text-align: right;\">\n",
              "      <th></th>\n",
              "      <th>Country</th>\n",
              "      <th>Population (1000s)</th>\n",
              "      <th>TB deaths</th>\n",
              "    </tr>\n",
              "  </thead>\n",
              "  <tbody>\n",
              "    <tr>\n",
              "      <th>0</th>\n",
              "      <td>Angola</td>\n",
              "      <td>21472</td>\n",
              "      <td>6900</td>\n",
              "    </tr>\n",
              "    <tr>\n",
              "      <th>1</th>\n",
              "      <td>Brazil</td>\n",
              "      <td>200362</td>\n",
              "      <td>4400</td>\n",
              "    </tr>\n",
              "    <tr>\n",
              "      <th>2</th>\n",
              "      <td>China</td>\n",
              "      <td>1393337</td>\n",
              "      <td>41000</td>\n",
              "    </tr>\n",
              "    <tr>\n",
              "      <th>3</th>\n",
              "      <td>Equatorial Guinea</td>\n",
              "      <td>757</td>\n",
              "      <td>67</td>\n",
              "    </tr>\n",
              "    <tr>\n",
              "      <th>4</th>\n",
              "      <td>Guinea-Bissau</td>\n",
              "      <td>1704</td>\n",
              "      <td>1200</td>\n",
              "    </tr>\n",
              "    <tr>\n",
              "      <th>5</th>\n",
              "      <td>India</td>\n",
              "      <td>1252140</td>\n",
              "      <td>240000</td>\n",
              "    </tr>\n",
              "    <tr>\n",
              "      <th>6</th>\n",
              "      <td>Mozambique</td>\n",
              "      <td>25834</td>\n",
              "      <td>18000</td>\n",
              "    </tr>\n",
              "    <tr>\n",
              "      <th>7</th>\n",
              "      <td>Portugal</td>\n",
              "      <td>10608</td>\n",
              "      <td>140</td>\n",
              "    </tr>\n",
              "    <tr>\n",
              "      <th>8</th>\n",
              "      <td>Russian Federation</td>\n",
              "      <td>142834</td>\n",
              "      <td>17000</td>\n",
              "    </tr>\n",
              "    <tr>\n",
              "      <th>9</th>\n",
              "      <td>Sao Tome and Principe</td>\n",
              "      <td>193</td>\n",
              "      <td>18</td>\n",
              "    </tr>\n",
              "    <tr>\n",
              "      <th>10</th>\n",
              "      <td>South Africa</td>\n",
              "      <td>52776</td>\n",
              "      <td>25000</td>\n",
              "    </tr>\n",
              "    <tr>\n",
              "      <th>11</th>\n",
              "      <td>Timor-Leste</td>\n",
              "      <td>1133</td>\n",
              "      <td>990</td>\n",
              "    </tr>\n",
              "  </tbody>\n",
              "</table>\n",
              "</div>"
            ],
            "text/plain": [
              "                  Country  Population (1000s)  TB deaths\n",
              "0                  Angola               21472       6900\n",
              "1                  Brazil              200362       4400\n",
              "2                   China             1393337      41000\n",
              "3       Equatorial Guinea                 757         67\n",
              "4           Guinea-Bissau                1704       1200\n",
              "5                   India             1252140     240000\n",
              "6              Mozambique               25834      18000\n",
              "7                Portugal               10608        140\n",
              "8      Russian Federation              142834      17000\n",
              "9   Sao Tome and Principe                 193         18\n",
              "10           South Africa               52776      25000\n",
              "11            Timor-Leste                1133        990"
            ]
          },
          "metadata": {
            "tags": []
          },
          "execution_count": 33
        }
      ]
    },
    {
      "cell_type": "code",
      "metadata": {
        "colab": {
          "base_uri": "https://localhost:8080/"
        },
        "id": "Akz_Q6lwqbu1",
        "outputId": "3e72e54b-505e-4030-d62f-4ae009d0660d"
      },
      "source": [
        "deathsColumn = data['TB deaths']\n",
        "\n",
        "populationColumn = data['Population (1000s)']\n",
        "\n",
        "rateColumn = deathsColumn * 100 / populationColumn\n",
        "\n",
        "rateColumn"
      ],
      "execution_count": 34,
      "outputs": [
        {
          "output_type": "execute_result",
          "data": {
            "text/plain": [
              "0     32.134873\n",
              "1      2.196025\n",
              "2      2.942576\n",
              "3      8.850727\n",
              "4     70.422535\n",
              "5     19.167186\n",
              "6     69.675621\n",
              "7      1.319759\n",
              "8     11.901928\n",
              "9      9.326425\n",
              "10    47.370017\n",
              "11    87.378641\n",
              "dtype: float64"
            ]
          },
          "metadata": {
            "tags": []
          },
          "execution_count": 34
        }
      ]
    },
    {
      "cell_type": "code",
      "metadata": {
        "colab": {
          "base_uri": "https://localhost:8080/",
          "height": 426
        },
        "id": "RILT8Z5Qq4aD",
        "outputId": "9d41ccdf-2019-437c-930d-3cabc034b1ed"
      },
      "source": [
        "data['TB deaths (new column)']= rateColumn\n",
        "data"
      ],
      "execution_count": 35,
      "outputs": [
        {
          "output_type": "execute_result",
          "data": {
            "text/html": [
              "<div>\n",
              "<style scoped>\n",
              "    .dataframe tbody tr th:only-of-type {\n",
              "        vertical-align: middle;\n",
              "    }\n",
              "\n",
              "    .dataframe tbody tr th {\n",
              "        vertical-align: top;\n",
              "    }\n",
              "\n",
              "    .dataframe thead th {\n",
              "        text-align: right;\n",
              "    }\n",
              "</style>\n",
              "<table border=\"1\" class=\"dataframe\">\n",
              "  <thead>\n",
              "    <tr style=\"text-align: right;\">\n",
              "      <th></th>\n",
              "      <th>Country</th>\n",
              "      <th>Population (1000s)</th>\n",
              "      <th>TB deaths</th>\n",
              "      <th>TB deaths (new column)</th>\n",
              "    </tr>\n",
              "  </thead>\n",
              "  <tbody>\n",
              "    <tr>\n",
              "      <th>0</th>\n",
              "      <td>Angola</td>\n",
              "      <td>21472</td>\n",
              "      <td>6900</td>\n",
              "      <td>32.134873</td>\n",
              "    </tr>\n",
              "    <tr>\n",
              "      <th>1</th>\n",
              "      <td>Brazil</td>\n",
              "      <td>200362</td>\n",
              "      <td>4400</td>\n",
              "      <td>2.196025</td>\n",
              "    </tr>\n",
              "    <tr>\n",
              "      <th>2</th>\n",
              "      <td>China</td>\n",
              "      <td>1393337</td>\n",
              "      <td>41000</td>\n",
              "      <td>2.942576</td>\n",
              "    </tr>\n",
              "    <tr>\n",
              "      <th>3</th>\n",
              "      <td>Equatorial Guinea</td>\n",
              "      <td>757</td>\n",
              "      <td>67</td>\n",
              "      <td>8.850727</td>\n",
              "    </tr>\n",
              "    <tr>\n",
              "      <th>4</th>\n",
              "      <td>Guinea-Bissau</td>\n",
              "      <td>1704</td>\n",
              "      <td>1200</td>\n",
              "      <td>70.422535</td>\n",
              "    </tr>\n",
              "    <tr>\n",
              "      <th>5</th>\n",
              "      <td>India</td>\n",
              "      <td>1252140</td>\n",
              "      <td>240000</td>\n",
              "      <td>19.167186</td>\n",
              "    </tr>\n",
              "    <tr>\n",
              "      <th>6</th>\n",
              "      <td>Mozambique</td>\n",
              "      <td>25834</td>\n",
              "      <td>18000</td>\n",
              "      <td>69.675621</td>\n",
              "    </tr>\n",
              "    <tr>\n",
              "      <th>7</th>\n",
              "      <td>Portugal</td>\n",
              "      <td>10608</td>\n",
              "      <td>140</td>\n",
              "      <td>1.319759</td>\n",
              "    </tr>\n",
              "    <tr>\n",
              "      <th>8</th>\n",
              "      <td>Russian Federation</td>\n",
              "      <td>142834</td>\n",
              "      <td>17000</td>\n",
              "      <td>11.901928</td>\n",
              "    </tr>\n",
              "    <tr>\n",
              "      <th>9</th>\n",
              "      <td>Sao Tome and Principe</td>\n",
              "      <td>193</td>\n",
              "      <td>18</td>\n",
              "      <td>9.326425</td>\n",
              "    </tr>\n",
              "    <tr>\n",
              "      <th>10</th>\n",
              "      <td>South Africa</td>\n",
              "      <td>52776</td>\n",
              "      <td>25000</td>\n",
              "      <td>47.370017</td>\n",
              "    </tr>\n",
              "    <tr>\n",
              "      <th>11</th>\n",
              "      <td>Timor-Leste</td>\n",
              "      <td>1133</td>\n",
              "      <td>990</td>\n",
              "      <td>87.378641</td>\n",
              "    </tr>\n",
              "  </tbody>\n",
              "</table>\n",
              "</div>"
            ],
            "text/plain": [
              "                  Country  ...  TB deaths (new column)\n",
              "0                  Angola  ...               32.134873\n",
              "1                  Brazil  ...                2.196025\n",
              "2                   China  ...                2.942576\n",
              "3       Equatorial Guinea  ...                8.850727\n",
              "4           Guinea-Bissau  ...               70.422535\n",
              "5                   India  ...               19.167186\n",
              "6              Mozambique  ...               69.675621\n",
              "7                Portugal  ...                1.319759\n",
              "8      Russian Federation  ...               11.901928\n",
              "9   Sao Tome and Principe  ...                9.326425\n",
              "10           South Africa  ...               47.370017\n",
              "11            Timor-Leste  ...               87.378641\n",
              "\n",
              "[12 rows x 4 columns]"
            ]
          },
          "metadata": {
            "tags": []
          },
          "execution_count": 35
        }
      ]
    },
    {
      "cell_type": "markdown",
      "metadata": {
        "id": "jz8IMe5wuLjQ"
      },
      "source": [
        "### Task\n",
        "\n",
        "Sort the same table by population, to quickly see which are the least and the most populous countries."
      ]
    },
    {
      "cell_type": "markdown",
      "metadata": {
        "id": "iTjERV32uLjR"
      },
      "source": [
        "**Now go back to the course.**"
      ]
    },
    {
      "cell_type": "markdown",
      "metadata": {
        "id": "Bu02wKZhuLjT"
      },
      "source": [
        "## Final quiz: Calculations over columns\n",
        "\n",
        "This information will help you to answer questions in the final quiz.\n",
        "\n",
        "The value of an arithmetic expression involving columns is a column. In evaluating the expression, the computer computes the expression for each row."
      ]
    },
    {
      "cell_type": "code",
      "metadata": {
        "id": "6vV58utSuLjT",
        "colab": {
          "base_uri": "https://localhost:8080/"
        },
        "outputId": "2eaf8be4-ea91-46a4-ffb0-be3adf00928e"
      },
      "source": [
        "deathsColumn = data['TB deaths']\n",
        "populationColumn = data['Population (1000s)']\n",
        "rateColumn = deathsColumn * 100 / populationColumn\n",
        "rateColumn"
      ],
      "execution_count": 36,
      "outputs": [
        {
          "output_type": "execute_result",
          "data": {
            "text/plain": [
              "0     32.134873\n",
              "1      2.196025\n",
              "2      2.942576\n",
              "3      8.850727\n",
              "4     70.422535\n",
              "5     19.167186\n",
              "6     69.675621\n",
              "7      1.319759\n",
              "8     11.901928\n",
              "9      9.326425\n",
              "10    47.370017\n",
              "11    87.378641\n",
              "dtype: float64"
            ]
          },
          "metadata": {
            "tags": []
          },
          "execution_count": 36
        }
      ]
    },
    {
      "cell_type": "markdown",
      "metadata": {
        "id": "Q5HmQVcTuLjU"
      },
      "source": [
        "To add a new column to a dataframe, 'select' a non-existing column, i.e. with a new name, and assign to it."
      ]
    },
    {
      "cell_type": "code",
      "metadata": {
        "id": "pdn9bMHnuLjU",
        "colab": {
          "base_uri": "https://localhost:8080/",
          "height": 426
        },
        "outputId": "2445d483-50b7-46ae-d737-be7b0f144f3c"
      },
      "source": [
        "data['TB deaths (per 100000)'] = rateColumn\n",
        "data"
      ],
      "execution_count": 37,
      "outputs": [
        {
          "output_type": "execute_result",
          "data": {
            "text/html": [
              "<div>\n",
              "<style scoped>\n",
              "    .dataframe tbody tr th:only-of-type {\n",
              "        vertical-align: middle;\n",
              "    }\n",
              "\n",
              "    .dataframe tbody tr th {\n",
              "        vertical-align: top;\n",
              "    }\n",
              "\n",
              "    .dataframe thead th {\n",
              "        text-align: right;\n",
              "    }\n",
              "</style>\n",
              "<table border=\"1\" class=\"dataframe\">\n",
              "  <thead>\n",
              "    <tr style=\"text-align: right;\">\n",
              "      <th></th>\n",
              "      <th>Country</th>\n",
              "      <th>Population (1000s)</th>\n",
              "      <th>TB deaths</th>\n",
              "      <th>TB deaths (new column)</th>\n",
              "      <th>TB deaths (per 100000)</th>\n",
              "    </tr>\n",
              "  </thead>\n",
              "  <tbody>\n",
              "    <tr>\n",
              "      <th>0</th>\n",
              "      <td>Angola</td>\n",
              "      <td>21472</td>\n",
              "      <td>6900</td>\n",
              "      <td>32.134873</td>\n",
              "      <td>32.134873</td>\n",
              "    </tr>\n",
              "    <tr>\n",
              "      <th>1</th>\n",
              "      <td>Brazil</td>\n",
              "      <td>200362</td>\n",
              "      <td>4400</td>\n",
              "      <td>2.196025</td>\n",
              "      <td>2.196025</td>\n",
              "    </tr>\n",
              "    <tr>\n",
              "      <th>2</th>\n",
              "      <td>China</td>\n",
              "      <td>1393337</td>\n",
              "      <td>41000</td>\n",
              "      <td>2.942576</td>\n",
              "      <td>2.942576</td>\n",
              "    </tr>\n",
              "    <tr>\n",
              "      <th>3</th>\n",
              "      <td>Equatorial Guinea</td>\n",
              "      <td>757</td>\n",
              "      <td>67</td>\n",
              "      <td>8.850727</td>\n",
              "      <td>8.850727</td>\n",
              "    </tr>\n",
              "    <tr>\n",
              "      <th>4</th>\n",
              "      <td>Guinea-Bissau</td>\n",
              "      <td>1704</td>\n",
              "      <td>1200</td>\n",
              "      <td>70.422535</td>\n",
              "      <td>70.422535</td>\n",
              "    </tr>\n",
              "    <tr>\n",
              "      <th>5</th>\n",
              "      <td>India</td>\n",
              "      <td>1252140</td>\n",
              "      <td>240000</td>\n",
              "      <td>19.167186</td>\n",
              "      <td>19.167186</td>\n",
              "    </tr>\n",
              "    <tr>\n",
              "      <th>6</th>\n",
              "      <td>Mozambique</td>\n",
              "      <td>25834</td>\n",
              "      <td>18000</td>\n",
              "      <td>69.675621</td>\n",
              "      <td>69.675621</td>\n",
              "    </tr>\n",
              "    <tr>\n",
              "      <th>7</th>\n",
              "      <td>Portugal</td>\n",
              "      <td>10608</td>\n",
              "      <td>140</td>\n",
              "      <td>1.319759</td>\n",
              "      <td>1.319759</td>\n",
              "    </tr>\n",
              "    <tr>\n",
              "      <th>8</th>\n",
              "      <td>Russian Federation</td>\n",
              "      <td>142834</td>\n",
              "      <td>17000</td>\n",
              "      <td>11.901928</td>\n",
              "      <td>11.901928</td>\n",
              "    </tr>\n",
              "    <tr>\n",
              "      <th>9</th>\n",
              "      <td>Sao Tome and Principe</td>\n",
              "      <td>193</td>\n",
              "      <td>18</td>\n",
              "      <td>9.326425</td>\n",
              "      <td>9.326425</td>\n",
              "    </tr>\n",
              "    <tr>\n",
              "      <th>10</th>\n",
              "      <td>South Africa</td>\n",
              "      <td>52776</td>\n",
              "      <td>25000</td>\n",
              "      <td>47.370017</td>\n",
              "      <td>47.370017</td>\n",
              "    </tr>\n",
              "    <tr>\n",
              "      <th>11</th>\n",
              "      <td>Timor-Leste</td>\n",
              "      <td>1133</td>\n",
              "      <td>990</td>\n",
              "      <td>87.378641</td>\n",
              "      <td>87.378641</td>\n",
              "    </tr>\n",
              "  </tbody>\n",
              "</table>\n",
              "</div>"
            ],
            "text/plain": [
              "                  Country  ...  TB deaths (per 100000)\n",
              "0                  Angola  ...               32.134873\n",
              "1                  Brazil  ...                2.196025\n",
              "2                   China  ...                2.942576\n",
              "3       Equatorial Guinea  ...                8.850727\n",
              "4           Guinea-Bissau  ...               70.422535\n",
              "5                   India  ...               19.167186\n",
              "6              Mozambique  ...               69.675621\n",
              "7                Portugal  ...                1.319759\n",
              "8      Russian Federation  ...               11.901928\n",
              "9   Sao Tome and Principe  ...                9.326425\n",
              "10           South Africa  ...               47.370017\n",
              "11            Timor-Leste  ...               87.378641\n",
              "\n",
              "[12 rows x 5 columns]"
            ]
          },
          "metadata": {
            "tags": []
          },
          "execution_count": 37
        }
      ]
    },
    {
      "cell_type": "markdown",
      "metadata": {
        "id": "yYJlPqlEuLjV"
      },
      "source": [
        "### Tasks\n",
        "\n",
        "Add code to calculate:\n",
        "\n",
        "- the range of the population, in thousands of inhabitants"
      ]
    },
    {
      "cell_type": "code",
      "metadata": {
        "colab": {
          "base_uri": "https://localhost:8080/",
          "height": 426
        },
        "id": "0m2a-8mms0E1",
        "outputId": "3304b1ea-0cc3-4a7c-9f95-a12fdd4be05d"
      },
      "source": [
        "data.sort_values('TB deaths (per 100000)')"
      ],
      "execution_count": 38,
      "outputs": [
        {
          "output_type": "execute_result",
          "data": {
            "text/html": [
              "<div>\n",
              "<style scoped>\n",
              "    .dataframe tbody tr th:only-of-type {\n",
              "        vertical-align: middle;\n",
              "    }\n",
              "\n",
              "    .dataframe tbody tr th {\n",
              "        vertical-align: top;\n",
              "    }\n",
              "\n",
              "    .dataframe thead th {\n",
              "        text-align: right;\n",
              "    }\n",
              "</style>\n",
              "<table border=\"1\" class=\"dataframe\">\n",
              "  <thead>\n",
              "    <tr style=\"text-align: right;\">\n",
              "      <th></th>\n",
              "      <th>Country</th>\n",
              "      <th>Population (1000s)</th>\n",
              "      <th>TB deaths</th>\n",
              "      <th>TB deaths (new column)</th>\n",
              "      <th>TB deaths (per 100000)</th>\n",
              "    </tr>\n",
              "  </thead>\n",
              "  <tbody>\n",
              "    <tr>\n",
              "      <th>7</th>\n",
              "      <td>Portugal</td>\n",
              "      <td>10608</td>\n",
              "      <td>140</td>\n",
              "      <td>1.319759</td>\n",
              "      <td>1.319759</td>\n",
              "    </tr>\n",
              "    <tr>\n",
              "      <th>1</th>\n",
              "      <td>Brazil</td>\n",
              "      <td>200362</td>\n",
              "      <td>4400</td>\n",
              "      <td>2.196025</td>\n",
              "      <td>2.196025</td>\n",
              "    </tr>\n",
              "    <tr>\n",
              "      <th>2</th>\n",
              "      <td>China</td>\n",
              "      <td>1393337</td>\n",
              "      <td>41000</td>\n",
              "      <td>2.942576</td>\n",
              "      <td>2.942576</td>\n",
              "    </tr>\n",
              "    <tr>\n",
              "      <th>3</th>\n",
              "      <td>Equatorial Guinea</td>\n",
              "      <td>757</td>\n",
              "      <td>67</td>\n",
              "      <td>8.850727</td>\n",
              "      <td>8.850727</td>\n",
              "    </tr>\n",
              "    <tr>\n",
              "      <th>9</th>\n",
              "      <td>Sao Tome and Principe</td>\n",
              "      <td>193</td>\n",
              "      <td>18</td>\n",
              "      <td>9.326425</td>\n",
              "      <td>9.326425</td>\n",
              "    </tr>\n",
              "    <tr>\n",
              "      <th>8</th>\n",
              "      <td>Russian Federation</td>\n",
              "      <td>142834</td>\n",
              "      <td>17000</td>\n",
              "      <td>11.901928</td>\n",
              "      <td>11.901928</td>\n",
              "    </tr>\n",
              "    <tr>\n",
              "      <th>5</th>\n",
              "      <td>India</td>\n",
              "      <td>1252140</td>\n",
              "      <td>240000</td>\n",
              "      <td>19.167186</td>\n",
              "      <td>19.167186</td>\n",
              "    </tr>\n",
              "    <tr>\n",
              "      <th>0</th>\n",
              "      <td>Angola</td>\n",
              "      <td>21472</td>\n",
              "      <td>6900</td>\n",
              "      <td>32.134873</td>\n",
              "      <td>32.134873</td>\n",
              "    </tr>\n",
              "    <tr>\n",
              "      <th>10</th>\n",
              "      <td>South Africa</td>\n",
              "      <td>52776</td>\n",
              "      <td>25000</td>\n",
              "      <td>47.370017</td>\n",
              "      <td>47.370017</td>\n",
              "    </tr>\n",
              "    <tr>\n",
              "      <th>6</th>\n",
              "      <td>Mozambique</td>\n",
              "      <td>25834</td>\n",
              "      <td>18000</td>\n",
              "      <td>69.675621</td>\n",
              "      <td>69.675621</td>\n",
              "    </tr>\n",
              "    <tr>\n",
              "      <th>4</th>\n",
              "      <td>Guinea-Bissau</td>\n",
              "      <td>1704</td>\n",
              "      <td>1200</td>\n",
              "      <td>70.422535</td>\n",
              "      <td>70.422535</td>\n",
              "    </tr>\n",
              "    <tr>\n",
              "      <th>11</th>\n",
              "      <td>Timor-Leste</td>\n",
              "      <td>1133</td>\n",
              "      <td>990</td>\n",
              "      <td>87.378641</td>\n",
              "      <td>87.378641</td>\n",
              "    </tr>\n",
              "  </tbody>\n",
              "</table>\n",
              "</div>"
            ],
            "text/plain": [
              "                  Country  ...  TB deaths (per 100000)\n",
              "7                Portugal  ...                1.319759\n",
              "1                  Brazil  ...                2.196025\n",
              "2                   China  ...                2.942576\n",
              "3       Equatorial Guinea  ...                8.850727\n",
              "9   Sao Tome and Principe  ...                9.326425\n",
              "8      Russian Federation  ...               11.901928\n",
              "5                   India  ...               19.167186\n",
              "0                  Angola  ...               32.134873\n",
              "10           South Africa  ...               47.370017\n",
              "6              Mozambique  ...               69.675621\n",
              "4           Guinea-Bissau  ...               70.422535\n",
              "11            Timor-Leste  ...               87.378641\n",
              "\n",
              "[12 rows x 5 columns]"
            ]
          },
          "metadata": {
            "tags": []
          },
          "execution_count": 38
        }
      ]
    },
    {
      "cell_type": "code",
      "metadata": {
        "collapsed": true,
        "id": "7PyzmVR3uLjW"
      },
      "source": [
        ""
      ],
      "execution_count": 37,
      "outputs": []
    },
    {
      "cell_type": "markdown",
      "metadata": {
        "id": "BdH4-0cguLjX"
      },
      "source": [
        "- the mean of the death rate"
      ]
    },
    {
      "cell_type": "code",
      "metadata": {
        "collapsed": true,
        "id": "pd_vIGRauLjX"
      },
      "source": [
        ""
      ],
      "execution_count": 37,
      "outputs": []
    },
    {
      "cell_type": "markdown",
      "metadata": {
        "id": "A4xocsVWuLjX"
      },
      "source": [
        "- the median of the death rate"
      ]
    },
    {
      "cell_type": "code",
      "metadata": {
        "collapsed": true,
        "id": "A-iSJet6uLjY"
      },
      "source": [
        ""
      ],
      "execution_count": 37,
      "outputs": []
    },
    {
      "cell_type": "markdown",
      "metadata": {
        "id": "LLR_MKOvuLjY"
      },
      "source": [
        "Now you can answer the questions in the **final quiz**."
      ]
    }
  ]
}